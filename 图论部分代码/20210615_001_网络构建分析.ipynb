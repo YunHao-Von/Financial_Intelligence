{
 "cells": [
  {
   "cell_type": "code",
   "execution_count": 1,
   "metadata": {
    "collapsed": true
   },
   "outputs": [],
   "source": [
    "import networkx as nx\n",
    "import matplotlib.pyplot as plt\n",
    "import os"
   ]
  },
  {
   "cell_type": "code",
   "execution_count": 2,
   "outputs": [],
   "source": [
    "peoples=os.listdir('歌单存储')\n",
    "G = nx.read_gexf(\"Graph.gexf\")"
   ],
   "metadata": {
    "collapsed": false,
    "pycharm": {
     "name": "#%%\n"
    }
   }
  },
  {
   "cell_type": "code",
   "execution_count": 3,
   "outputs": [],
   "source": [
    "# G=nx.Graph()\n",
    "# '''添加歌曲节点'''\n",
    "# import pandas as pd\n",
    "# music_ids=pd.read_csv('音乐ID.csv',encoding='utf-8',converters={'ID':str})['ID'].tolist()\n",
    "# for temp_music in music_ids:\n",
    "#     music='m'+temp_music\n",
    "#     G.add_node(music)\n",
    "#     G.nodes[music]['type'] = 'song'\n",
    "#\n",
    "\n",
    "\n",
    "# for i in range(len(peoples)):\n",
    "#     person=peoples[i]#获取当前的id\n",
    "#     node_person='u'+person#给用户id加标识符\n",
    "#     G.add_node(node_person)\n",
    "#     G.nodes[node_person]['type'] = 'user'\n",
    "#     music_files=os.listdir('歌单存储/'+str(person))\n",
    "#     for j in range(len(music_files)):\n",
    "#         temp_music_id=pd.read_csv('歌单存储/'+str(person)+'/'+str(music_files[j]),converters={'song_id':str})['song_id'].tolist()\n",
    "#         for k in range(len(temp_music_id)):\n",
    "#             music_id_like='m'+temp_music_id[k]\n",
    "#             edge=(node_person,music_id_like)\n",
    "#             G.add_edges_from([edge])"
   ],
   "metadata": {
    "collapsed": false,
    "pycharm": {
     "name": "#%%\n"
    }
   }
  },
  {
   "cell_type": "code",
   "execution_count": 4,
   "outputs": [],
   "source": [
    "import numpy as np\n",
    "import pandas as pd\n",
    "def get_introducted_people(id):\n",
    "    musics=list(G.neighbors('u'+str(id)))\n",
    "    users=[]\n",
    "    for i in musics:\n",
    "        temp_users=list(G.neighbors(str(i)))\n",
    "        users=users+temp_users\n",
    "    se = pd.Series(users)\n",
    "    users=list(se.value_counts().iloc[1:6].index)\n",
    "    return users\n",
    "def get_introducted_songs(id):\n",
    "    similar_users=get_introducted_people(id)\n",
    "    similar_songs=[]\n",
    "    for i in similar_users:\n",
    "        temp_songs=list(G.neighbors(i))\n",
    "        similar_songs=similar_songs+temp_songs\n",
    "    se = pd.Series(similar_songs)\n",
    "    songs=list(se.value_counts().iloc[1:6].index)\n",
    "    return songs"
   ],
   "metadata": {
    "collapsed": false,
    "pycharm": {
     "name": "#%%\n"
    }
   }
  },
  {
   "cell_type": "code",
   "execution_count": 5,
   "outputs": [],
   "source": [
    "import pandas as pd\n",
    "artists=pd.read_csv('音乐家.csv')['artist_id'].tolist()\n",
    "musics=pd.read_csv('音乐家.csv')['ID'].tolist()"
   ],
   "metadata": {
    "collapsed": false,
    "pycharm": {
     "name": "#%%\n"
    }
   }
  },
  {
   "cell_type": "code",
   "execution_count": 6,
   "outputs": [],
   "source": [
    "for i in range(len(artists)):\n",
    "    node_artist='a'+str(artists[i])\n",
    "    node_music='m'+str(musics[i])\n",
    "    G.add_node(node_artist)\n",
    "    G.nodes[node_artist]['type'] = 'artist'\n",
    "    G.add_edges_from([(node_music,node_artist)])"
   ],
   "metadata": {
    "collapsed": false,
    "pycharm": {
     "name": "#%%\n"
    }
   }
  },
  {
   "cell_type": "code",
   "execution_count": 7,
   "outputs": [],
   "source": [
    "nx.write_gexf(G,'Graph.gexf')"
   ],
   "metadata": {
    "collapsed": false,
    "pycharm": {
     "name": "#%%\n"
    }
   }
  }
 ],
 "metadata": {
  "kernelspec": {
   "name": "pycharm-1dac48b0",
   "language": "python",
   "display_name": "PyCharm (shiyan)"
  },
  "language_info": {
   "codemirror_mode": {
    "name": "ipython",
    "version": 2
   },
   "file_extension": ".py",
   "mimetype": "text/x-python",
   "name": "python",
   "nbconvert_exporter": "python",
   "pygments_lexer": "ipython2",
   "version": "2.7.6"
  }
 },
 "nbformat": 4,
 "nbformat_minor": 0
}