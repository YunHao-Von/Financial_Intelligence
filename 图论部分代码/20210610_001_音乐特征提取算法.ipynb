{
 "cells": [
  {
   "cell_type": "code",
   "execution_count": 1,
   "metadata": {
    "collapsed": true
   },
   "outputs": [],
   "source": [
    "from pydub import silence, AudioSegment\n",
    "from pathlib import Path\n",
    "import requests\n",
    "def Music_download(song_id):\n",
    "    headers={\n",
    "    'Referer':'https://music.163.com',\n",
    "    'User-Agent':'Mozilla/5.0 (Windows NT 6.1; WOW64) AppleWebKit/537.36 (KHTML, like Gecko) Chrome/53.0.2785.89 Safari/537.36'\n",
    "    }\n",
    "    song_id=str(song_id)\n",
    "    download_url = \"http://music.163.com/song/media/outer/url?id=%s\" % song_id\n",
    "    try:\n",
    "        temp=requests.get(download_url, headers=headers).content\n",
    "        with open(song_id +'.mp3', 'wb') as f:\n",
    "            f.write(temp)\n",
    "            return 1\n",
    "    except:\n",
    "        print(\"下载失败\")\n",
    "        return 0"
   ]
  },
  {
   "cell_type": "code",
   "execution_count": 2,
   "outputs": [],
   "source": [
    "import librosa\n",
    "import sklearn\n",
    "import pandas as pd\n",
    "def Music_Feature_Get(id):\n",
    "    temp=Music_download(id)\n",
    "    if temp==1:\n",
    "        x , sr = librosa.load(str(id)+\".mp3\", sr=8000)\n",
    "        zero_crossings = librosa.zero_crossings(x[0:len(x)], pad=False)\n",
    "        zero_crossings=sum(zero_crossings)/len(x)#计算过0率,归一化版本\n",
    "        spectral_centroids = sum(librosa.feature.spectral_centroid(x[:len(x)], sr=sr)[0])/len(x)#计算频谱平均中心值，越高代表声音音调越高昂\n",
    "        spectral_rolloff = sum(librosa.feature.spectral_rolloff(x, sr=sr)[0])/len(x)#我也不知道该咋描述\n",
    "        mfccs = librosa.feature.mfcc(x, sr=sr)\n",
    "        mfccs=mfccs.mean(axis=1)#行\n",
    "        result=list(mfccs)\n",
    "        result.append(zero_crossings)\n",
    "        result.append(spectral_rolloff)\n",
    "        result.append(spectral_centroids)\n",
    "        frame=pd.DataFrame({\n",
    "            'id':[id],\n",
    "            'mfccs0':[result[0]],\n",
    "            'mfccs1':[result[1]],\n",
    "            'mfccs2':[result[2]],\n",
    "            'mfccs3':[result[3]],\n",
    "            'mfccs4':[result[4]],\n",
    "            'mfccs5':[result[5]],\n",
    "            'mfccs6':[result[5]],\n",
    "            'mfccs7':[result[7]],\n",
    "            'mfccs8':[result[8]],\n",
    "            'mfccs9':[result[9]],\n",
    "            'mfccs10':[result[10]],\n",
    "            'mfccs11':[result[11]],\n",
    "            'mfccs12':[result[12]],\n",
    "            'mfccs13':[result[13]],\n",
    "            'mfccs14':[result[14]],\n",
    "            'mfccs15':[result[15]],\n",
    "            'mfccs16':[result[16]],\n",
    "            'mfccs17':[result[17]],\n",
    "            'mfccs18':[result[18]],\n",
    "            'mfccs19':[result[19]],\n",
    "            'zero_crossings':[zero_crossings],\n",
    "            'spectral_centroids':[spectral_centroids],\n",
    "            'spectral_rolloff':[spectral_rolloff]\n",
    "        })\n",
    "        return frame\n",
    "    else:\n",
    "        return 0"
   ],
   "metadata": {
    "collapsed": false,
    "pycharm": {
     "name": "#%%\n"
    }
   }
  },
  {
   "cell_type": "code",
   "execution_count": 3,
   "outputs": [],
   "source": [
    "# import pandas\n",
    "# import os\n",
    "# dirs=os.listdir('歌单存储')"
   ],
   "metadata": {
    "collapsed": false,
    "pycharm": {
     "name": "#%%\n"
    }
   }
  },
  {
   "cell_type": "code",
   "execution_count": 4,
   "outputs": [],
   "source": [
    "# import pandas as pd\n",
    "# music=[]"
   ],
   "metadata": {
    "collapsed": false,
    "pycharm": {
     "name": "#%%\n"
    }
   }
  },
  {
   "cell_type": "code",
   "execution_count": 5,
   "outputs": [],
   "source": [
    "# for i in range(5860,len(dirs)):\n",
    "#     files=os.listdir('歌单存储/'+str(dirs[i]))\n",
    "#     for j in files:\n",
    "#         temp_list=pd.read_csv('歌单存储/'+str(dirs[i])+'/'+str(j))['song_id'].tolist()\n",
    "#         music=music+temp_list"
   ],
   "metadata": {
    "collapsed": false,
    "pycharm": {
     "name": "#%%\n"
    }
   }
  },
  {
   "cell_type": "code",
   "execution_count": 6,
   "outputs": [],
   "source": [
    "# i"
   ],
   "metadata": {
    "collapsed": false,
    "pycharm": {
     "name": "#%%\n"
    }
   }
  },
  {
   "cell_type": "code",
   "execution_count": 7,
   "outputs": [],
   "source": [
    "# musicid=list(set(music))\n",
    "# result=pd.DataFrame({'ID':musicid})\n",
    "# result.to_csv('音乐ID.csv',index=False,encoding='utf-8')\n",
    "musicid=pd.read_csv('音乐ID.csv',encoding='utf-8')['ID'].tolist()\n",
    "musicid=musicid[5000:]"
   ],
   "metadata": {
    "collapsed": false,
    "pycharm": {
     "name": "#%%\n"
    }
   }
  },
  {
   "cell_type": "code",
   "execution_count": 8,
   "outputs": [],
   "source": [
    "# frame1=pd.DataFrame({\n",
    "#             'id':[0],\n",
    "#             'mfccs0':[0],\n",
    "#             'mfccs1':[0],\n",
    "#             'mfccs2':[0],\n",
    "#             'mfccs3':[0],\n",
    "#             'mfccs4':[0],\n",
    "#             'mfccs5':[0],\n",
    "#             'mfccs6':[0],\n",
    "#             'mfccs7':[0],\n",
    "#             'mfccs8':[0],\n",
    "#             'mfccs9':[0],\n",
    "#             'mfccs10':[0],\n",
    "#             'mfccs11':[0],\n",
    "#             'mfccs12':[0],\n",
    "#             'mfccs13':[0],\n",
    "#             'mfccs14':[0],\n",
    "#             'mfccs15':[0],\n",
    "#             'mfccs16':[0],\n",
    "#             'mfccs17':[0],\n",
    "#             'mfccs18':[0],\n",
    "#             'mfccs19':[0],\n",
    "#             'zero_crossings':[0],\n",
    "#             'spectral_centroids':[0],\n",
    "#             'spectral_rolloff':[0]\n",
    "#         })\n",
    "# frame1.to_csv('data.csv',index=None)"
   ],
   "metadata": {
    "collapsed": false,
    "pycharm": {
     "name": "#%%\n"
    }
   }
  },
  {
   "cell_type": "code",
   "execution_count": null,
   "outputs": [
    {
     "name": "stdout",
     "output_type": "stream",
     "text": [
      "下载失败\n",
      "下载失败\n",
      "下载失败\n",
      "下载失败\n",
      "下载失败\n",
      "下载失败\n",
      "下载失败\n",
      "下载失败\n",
      "下载失败\n",
      "下载失败\n",
      "下载失败\n",
      "下载失败\n",
      "下载失败\n",
      "下载失败\n",
      "下载失败\n",
      "下载失败\n",
      "下载失败\n",
      "下载失败\n",
      "下载失败\n",
      "下载失败\n",
      "下载失败\n",
      "下载失败\n",
      "下载失败\n",
      "下载失败\n",
      "下载失败\n",
      "下载失败\n",
      "下载失败\n",
      "下载失败\n",
      "下载失败\n",
      "下载失败\n",
      "下载失败\n",
      "下载失败\n",
      "下载失败\n",
      "下载失败\n",
      "下载失败\n",
      "下载失败\n",
      "下载失败\n",
      "下载失败\n",
      "下载失败\n",
      "下载失败\n",
      "下载失败\n",
      "下载失败\n",
      "下载失败\n",
      "下载失败\n",
      "下载失败\n",
      "下载失败\n",
      "下载失败\n",
      "下载失败\n",
      "下载失败\n",
      "下载失败\n",
      "下载失败\n",
      "下载失败\n",
      "下载失败\n",
      "下载失败\n",
      "下载失败\n",
      "下载失败\n",
      "下载失败\n",
      "下载失败\n",
      "下载失败\n",
      "下载失败\n",
      "下载失败\n",
      "下载失败\n",
      "下载失败\n",
      "下载失败\n",
      "下载失败\n",
      "下载失败\n",
      "下载失败\n",
      "下载失败\n",
      "下载失败\n",
      "下载失败\n",
      "下载失败\n",
      "下载失败\n",
      "下载失败\n",
      "下载失败\n",
      "下载失败\n",
      "下载失败\n"
     ]
    },
    {
     "name": "stderr",
     "output_type": "stream",
     "text": [
      "F:\\Anaconda3\\lib\\site-packages\\librosa\\core\\audio.py:165: UserWarning: PySoundFile failed. Trying audioread instead.\n",
      "  warnings.warn(\"PySoundFile failed. Trying audioread instead.\")\n",
      "F:\\Anaconda3\\lib\\site-packages\\librosa\\core\\audio.py:165: UserWarning: PySoundFile failed. Trying audioread instead.\n",
      "  warnings.warn(\"PySoundFile failed. Trying audioread instead.\")\n"
     ]
    }
   ],
   "source": [
    "import os\n",
    "for dd in musicid:\n",
    "    try:\n",
    "        a=Music_Feature_Get(dd)\n",
    "        if a.empty!=True:\n",
    "            df_data=a\n",
    "            df_data.to_csv('data.csv', mode='a', header=False, index=None)\n",
    "            os.remove(str(dd)+'.mp3')\n",
    "    except:\n",
    "        continue"
   ],
   "metadata": {
    "collapsed": false,
    "pycharm": {
     "name": "#%%\n",
     "is_executing": true
    }
   }
  }
 ],
 "metadata": {
  "kernelspec": {
   "name": "pycharm-1dac48b0",
   "language": "python",
   "display_name": "PyCharm (shiyan)"
  },
  "language_info": {
   "codemirror_mode": {
    "name": "ipython",
    "version": 2
   },
   "file_extension": ".py",
   "mimetype": "text/x-python",
   "name": "python",
   "nbconvert_exporter": "python",
   "pygments_lexer": "ipython2",
   "version": "2.7.6"
  }
 },
 "nbformat": 4,
 "nbformat_minor": 0
}