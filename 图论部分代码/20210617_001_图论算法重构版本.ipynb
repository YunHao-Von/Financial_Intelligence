{
 "cells": [
  {
   "cell_type": "code",
   "execution_count": 1,
   "metadata": {
    "collapsed": true
   },
   "outputs": [],
   "source": [
    "import networkx as nx\n",
    "G=nx.read_gexf('Graph.gexf')"
   ]
  },
  {
   "cell_type": "code",
   "execution_count": 31,
   "outputs": [],
   "source": [
    "import numpy as np\n",
    "import pandas as pd\n",
    "def get_introducted_people(id):\n",
    "    musics=list(G.neighbors('u'+str(id)))\n",
    "    users=[]\n",
    "    for i in musics:\n",
    "        temp_users=list(G.neighbors(str(i)))\n",
    "        users=users+temp_users\n",
    "    se = pd.Series(users)\n",
    "    users=list(se.value_counts().iloc[1:6].index)\n",
    "    return users\n",
    "def get_introducted_songs(id):\n",
    "    similar_users=get_introducted_people(id)\n",
    "    similar_songs=[]\n",
    "    for i in similar_users:\n",
    "        temp_songs=list(G.neighbors(i))\n",
    "        similar_songs=similar_songs+temp_songs\n",
    "    se = pd.Series(similar_songs)\n",
    "    songs=list(se.value_counts().iloc[1:6].index)\n",
    "    return songs\n",
    "def get_introduced_artists(id):\n",
    "    songs=list(G.neighbors('u'+str(id)))\n",
    "    songs_artsits=[]\n",
    "    for i in songs:\n",
    "        songs_artsits=songs_artsits+list(G.neighbors(i))\n",
    "    final_artist=[]\n",
    "    for i in songs_artsits:\n",
    "        if i[0]=='a':\n",
    "            final_artist.append(i)\n",
    "    se = pd.Series(final_artist)\n",
    "    final_artist=list(se.value_counts().iloc[1:6].index)\n",
    "    return final_artist"
   ],
   "metadata": {
    "collapsed": false,
    "pycharm": {
     "name": "#%%\n"
    }
   }
  },
  {
   "cell_type": "code",
   "execution_count": 34,
   "outputs": [],
   "source": [
    "import pandas as pd\n",
    "musics=pd.read_csv('代.csv')['歌曲id'].tolist()\n",
    "artists=pd.read_csv('代.csv')['歌手id'].tolist()"
   ],
   "metadata": {
    "collapsed": false,
    "pycharm": {
     "name": "#%%\n"
    }
   }
  },
  {
   "cell_type": "code",
   "execution_count": 35,
   "outputs": [],
   "source": [
    "G.add_node('u1483982859')\n",
    "for i in range(len(musics)):\n",
    "    node_music='m'+str(musics[i])\n",
    "    G.add_node(node_music)\n",
    "    node_artist='a'+str(artists[i])\n",
    "    G.add_node(node_artist)\n",
    "    G.add_edges_from([('u1483982859',node_music)])\n",
    "    G.add_edges_from([(node_music,node_artist)])"
   ],
   "metadata": {
    "collapsed": false,
    "pycharm": {
     "name": "#%%\n"
    }
   }
  },
  {
   "cell_type": "code",
   "execution_count": 36,
   "outputs": [],
   "source": [
    "id=1483982859"
   ],
   "metadata": {
    "collapsed": false,
    "pycharm": {
     "name": "#%%\n"
    }
   }
  },
  {
   "cell_type": "code",
   "execution_count": 37,
   "outputs": [
    {
     "data": {
      "text/plain": "['a1132392', 'a41906', 'a124303', 'a95439', 'a12002201']"
     },
     "execution_count": 37,
     "metadata": {},
     "output_type": "execute_result"
    }
   ],
   "source": [
    "get_introduced_artists(id)"
   ],
   "metadata": {
    "collapsed": false,
    "pycharm": {
     "name": "#%%\n"
    }
   }
  },
  {
   "cell_type": "code",
   "execution_count": 38,
   "outputs": [
    {
     "data": {
      "text/plain": "['m1403318151', 'm1374329431', 'm1824025894', 'm1441758494', 'm1297742167']"
     },
     "execution_count": 38,
     "metadata": {},
     "output_type": "execute_result"
    }
   ],
   "source": [
    "get_introducted_songs(id)"
   ],
   "metadata": {
    "collapsed": false,
    "pycharm": {
     "name": "#%%\n"
    }
   }
  },
  {
   "cell_type": "code",
   "execution_count": 39,
   "outputs": [
    {
     "data": {
      "text/plain": "['u469068798', 'u512413327', 'u368278406', 'u501167689', 'u5769100']"
     },
     "execution_count": 39,
     "metadata": {},
     "output_type": "execute_result"
    }
   ],
   "source": [
    "get_introducted_people(id)"
   ],
   "metadata": {
    "collapsed": false,
    "pycharm": {
     "name": "#%%\n"
    }
   }
  }
 ],
 "metadata": {
  "kernelspec": {
   "name": "pycharm-1dac48b0",
   "language": "python",
   "display_name": "PyCharm (shiyan)"
  },
  "language_info": {
   "codemirror_mode": {
    "name": "ipython",
    "version": 2
   },
   "file_extension": ".py",
   "mimetype": "text/x-python",
   "name": "python",
   "nbconvert_exporter": "python",
   "pygments_lexer": "ipython2",
   "version": "2.7.6"
  }
 },
 "nbformat": 4,
 "nbformat_minor": 0
}