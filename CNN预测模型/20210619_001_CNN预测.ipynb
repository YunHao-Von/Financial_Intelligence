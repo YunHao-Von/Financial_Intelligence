{
 "cells": [
  {
   "cell_type": "code",
   "execution_count": 1,
   "metadata": {
    "collapsed": true
   },
   "outputs": [],
   "source": [
    "import pandas as pd\n",
    "data=pd.read_csv('datassss.csv')\n",
    "data=data.sample(frac=1.0).reset_index(drop=True)"
   ]
  },
  {
   "cell_type": "code",
   "execution_count": 2,
   "outputs": [],
   "source": [
    "import tensorflow as tf\n",
    "train_feature=data.iloc[:,1:-1]\n",
    "train_label=data.iloc[:,-1:]"
   ],
   "metadata": {
    "collapsed": false,
    "pycharm": {
     "name": "#%%\n"
    }
   }
  },
  {
   "cell_type": "code",
   "execution_count": 3,
   "outputs": [
    {
     "data": {
      "text/plain": "TensorShape([2800, 29, 1])"
     },
     "execution_count": 3,
     "metadata": {},
     "output_type": "execute_result"
    }
   ],
   "source": [
    "train_feature=tf.expand_dims(train_feature,-1)\n",
    "train_feature.shape"
   ],
   "metadata": {
    "collapsed": false,
    "pycharm": {
     "name": "#%%\n"
    }
   }
  },
  {
   "cell_type": "code",
   "execution_count": 4,
   "outputs": [],
   "source": [
    "class CNN_Decision(tf.keras.Model):\n",
    "    def __init__(self):\n",
    "        super().__init__()\n",
    "        self.conv1=tf.keras.layers.Conv1D(filters=10,kernel_size=200,padding='same')\n",
    "        self.pool1=tf.keras.layers.MaxPool1D(pool_size=3,strides=2)\n",
    "        self.reshape1=tf.keras.layers.Reshape(target_shape=(140,))\n",
    "        self.dense1=tf.keras.layers.Dense(10,activation='relu')\n",
    "        self.dense2=tf.keras.layers.Dense(1)\n",
    "    def call(self, inputs):\n",
    "        x=self.conv1(inputs)\n",
    "        x=self.pool1(x)\n",
    "        x=self.reshape1(x)\n",
    "        x=self.dense1(x)\n",
    "        x=self.dense2(x)\n",
    "        output=x\n",
    "        # output=tf.nn.softmax(x)\n",
    "        return output"
   ],
   "metadata": {
    "collapsed": false,
    "pycharm": {
     "name": "#%%\n"
    }
   }
  },
  {
   "cell_type": "code",
   "execution_count": 5,
   "outputs": [],
   "source": [
    "batch_size=100\n",
    "rate=0.001\n",
    "batch_num=int(len(train_feature)/batch_size)\n",
    "epoch=10\n",
    "model=CNN_Decision()\n",
    "optimizer=tf.keras.optimizers.Adam(learning_rate=rate)\n",
    "sunshi=[]\n",
    "def getbatch(num):\n",
    "    train=train_feature[100*num:100*(num+1)]\n",
    "    test=train_label[100*num:100*(num+1)]\n",
    "    return train,test\n",
    "for i in range(epoch):\n",
    "    for j in range(batch_num):\n",
    "        temp_train,temp_test=getbatch(j)\n",
    "        with tf.GradientTape() as tape:\n",
    "            labels_pred=model(temp_train)\n",
    "            #loss=tf.keras.losses.sparse_categorical_crossentropy(y_true=temp_test,y_pred=labels_pred)\n",
    "            loss=tf.square(labels_pred-temp_test)\n",
    "            loss=tf.reduce_mean(loss)\n",
    "            sunshi.append((loss.numpy()))\n",
    "        grads=tape.gradient(loss,model.trainable_variables)\n",
    "        optimizer.apply_gradients(grads_and_vars=zip(grads,model.trainable_variables))"
   ],
   "metadata": {
    "collapsed": false,
    "pycharm": {
     "name": "#%%\n"
    }
   }
  },
  {
   "cell_type": "code",
   "execution_count": 6,
   "outputs": [
    {
     "data": {
      "text/plain": "TensorShape([100, 29, 1])"
     },
     "execution_count": 6,
     "metadata": {},
     "output_type": "execute_result"
    }
   ],
   "source": [
    "import pandas as pd\n",
    "predict=pd.read_csv('yuece.csv')\n",
    "predict_feature=predict.iloc[:100,1:]\n",
    "predict_feature=tf.expand_dims(predict_feature,-1)\n",
    "predict_feature.shape"
   ],
   "metadata": {
    "collapsed": false,
    "pycharm": {
     "name": "#%%\n"
    }
   }
  },
  {
   "cell_type": "code",
   "execution_count": 24,
   "outputs": [],
   "source": [
    "predict=model(predict_feature)\n",
    "predict=predict.numpy()\n",
    "predict=predict.flatten()\n",
    "predict=list(predict)"
   ],
   "metadata": {
    "collapsed": false,
    "pycharm": {
     "name": "#%%\n"
    }
   }
  },
  {
   "cell_type": "code",
   "execution_count": 28,
   "outputs": [
    {
     "data": {
      "text/plain": "array([[85]], dtype=int64)"
     },
     "execution_count": 28,
     "metadata": {},
     "output_type": "execute_result"
    }
   ],
   "source": [
    "import numpy as np\n",
    "predict=np.array(predict)\n",
    "itemindex = np.argwhere( predict>1)\n",
    "itemindex"
   ],
   "metadata": {
    "collapsed": false,
    "pycharm": {
     "name": "#%%\n"
    }
   }
  }
 ],
 "metadata": {
  "kernelspec": {
   "display_name": "Python 3",
   "language": "python",
   "name": "python3"
  },
  "language_info": {
   "codemirror_mode": {
    "name": "ipython",
    "version": 2
   },
   "file_extension": ".py",
   "mimetype": "text/x-python",
   "name": "python",
   "nbconvert_exporter": "python",
   "pygments_lexer": "ipython2",
   "version": "2.7.6"
  }
 },
 "nbformat": 4,
 "nbformat_minor": 0
}