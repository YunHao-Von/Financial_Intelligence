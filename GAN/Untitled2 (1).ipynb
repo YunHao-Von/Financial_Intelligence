{
 "cells": [
  {
   "cell_type": "code",
   "execution_count": 1,
   "metadata": {},
   "outputs": [],
   "source": [
    "import numpy as np\n",
    "frame=np.load('frame.npy',allow_pickle=True)"
   ]
  },
  {
   "cell_type": "code",
   "execution_count": 2,
   "metadata": {},
   "outputs": [],
   "source": [
    "import tensorflow as tf\n",
    "train_feature=frame[0][0]\n",
    "for i in range(1,len(frame)):\n",
    "    train_feature = tf.concat([train_feature,frame[i][0]],axis=0)   "
   ]
  },
  {
   "cell_type": "code",
   "execution_count": 3,
   "metadata": {},
   "outputs": [],
   "source": [
    "train_label=[]\n",
    "for i in range(len(frame)):\n",
    "    train_label.append(frame[i][1])"
   ]
  },
  {
   "cell_type": "code",
   "execution_count": 4,
   "metadata": {},
   "outputs": [],
   "source": [
    "\n",
    "class classification(tf.keras.Model):\n",
    "    def __init__(self):\n",
    "        super().__init__()\n",
    "        self.conv1=tf.keras.layers.Conv1D(filters=10,kernel_size=200,padding='same')\n",
    "        self.pool1=tf.keras.layers.MaxPool1D(pool_size=100)\n",
    "        self.dense1=tf.keras.layers.Dense(200,activation='tanh')\n",
    "        self.dense2=tf.keras.layers.Dense(10,activation='relu')\n",
    "        self.flatten=tf.keras.layers.Reshape(target_shape=(500000,))\n",
    "        self.output1=tf.keras.layers.Dense(units=1,activation='relu')\n",
    "    def call(self,inputs):\n",
    "        temp=self.conv1(inputs)\n",
    "        temp=self.pool1(temp)\n",
    "        temp=self.dense1(temp)\n",
    "        temp=self.dense2(temp)\n",
    "        temp=self.flatten(temp)\n",
    "        output=self.output1(temp)\n",
    "        return output\n"
   ]
  },
  {
   "cell_type": "code",
   "execution_count": 1,
   "metadata": {},
   "outputs": [],
   "source": [
    "with tf.device(\"/gpu:0\"):\n",
    "    learning_rate=0.001\n",
    "    model=classification()\n",
    "    optimizer=tf.keras.optimizers.Adam(learning_rate=learning_rate)\n",
    "    for i in range(3):\n",
    "        with tf.GradientTape() as tape:\n",
    "            labels_pred=model(train_feature,training=True)\n",
    "            loss=tf.reduce_mean(tf.square(train_label - labels_pred))\n",
    "        grads=tape.gradient(loss,model.trainable_variables)\n",
    "        optimizer.apply_gradients(grads_and_vars=zip(grads,model.trainable_variables))\n",
    "        print(loss)\n"
   ]
  },
  {
   "cell_type": "code",
   "execution_count": null,
   "metadata": {},
   "outputs": [],
   "source": [
    "lab"
   ]
  }
 ],
 "metadata": {
  "kernelspec": {
   "display_name": "myconda",
   "language": "python",
   "name": "myconda"
  },
  "language_info": {
   "codemirror_mode": {
    "name": "ipython",
    "version": 3
   },
   "file_extension": ".py",
   "mimetype": "text/x-python",
   "name": "python",
   "nbconvert_exporter": "python",
   "pygments_lexer": "ipython3",
   "version": "3.8.5"
  }
 },
 "nbformat": 4,
 "nbformat_minor": 4
}
