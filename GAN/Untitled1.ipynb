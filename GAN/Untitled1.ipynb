{
 "cells": [
  {
   "cell_type": "code",
   "execution_count": 1,
   "metadata": {},
   "outputs": [],
   "source": [
    "import os\n",
    "import numpy as np\n",
    "from pydub import AudioSegment\n",
    "import wave\n",
    "import struct\n",
    "import pandas as pd\n",
    "import tensorflow as tf"
   ]
  },
  {
   "cell_type": "code",
   "execution_count": 2,
   "metadata": {},
   "outputs": [],
   "source": [
    "def load_mp3(filename):\n",
    "    '''\n",
    "    输入mp3文件的名，返回特征数据\n",
    "    '''\n",
    "    MP3_File = AudioSegment.from_mp3(file=filename)\n",
    "    MP3_File.export('shiyan.wav', format=\"wav\")#生成wave文件\n",
    "    #wav文件读取\n",
    "    '''\n",
    "    nchannels:声道数,\n",
    "    sampwidth：采样宽度,\n",
    "    framerate：帧速率,\n",
    "    nframes：帧的总量，\n",
    "    '''\n",
    "    f = wave.open('shiyan.wav','rb')\n",
    "    params = f.getparams()\n",
    "    nchannels, sampwidth, framerate, nframes = params[:4]\n",
    "    strData = f.readframes(nframes)#读取音频，字符串格式\n",
    "    waveData = np.frombuffer(strData,dtype=np.int16)#将字符串转化为int\n",
    "    waveData = waveData*1.0/(max(abs(waveData)))#wave幅值归一化\n",
    "    temp_result = np.reshape(waveData,[nframes,nchannels])\n",
    "    f.close()\n",
    "    nframes=5000000\n",
    "    result=temp_result[:nframes]\n",
    "    outData = result#待写入wav的数据，这里仍然取waveData数据\n",
    "    outData=np.expand_dims(outData,axis=0)\n",
    "    outData = tf.cast(outData, dtype=tf.float32)\n",
    "    return outData\n"
   ]
  },
  {
   "cell_type": "code",
   "execution_count": 3,
   "metadata": {},
   "outputs": [],
   "source": [
    "def make_songs(result):\n",
    "    test=np.array(result)\n",
    "    nframes=5000000\n",
    "    nchannels=2\n",
    "    waveData=test[:nframes]\n",
    "    outData = waveData\n",
    "    outData = np.reshape(outData,[nframes*nchannels,1])\n",
    "    outfile = 'outy.wav'\n",
    "    outwave = wave.open(outfile, 'wb')#定义存储路径以及文件名\n",
    "    sampwidth = 2\n",
    "    fs = 44100\n",
    "    data_size = len(outData)\n",
    "    framerate = int(fs)\n",
    "    nframes = data_size\n",
    "    comptype = \"NONE\"\n",
    "    compname = \"not compressed\"\n",
    "    outwave.setparams((nchannels, sampwidth, framerate, nframes,\n",
    "        comptype, compname))\n",
    "    outData=outData\n",
    "    for i in range(len(outData)):\n",
    "        v=outData[i]\n",
    "        outwave.writeframes(struct.pack('h', int(v * 64000 / 2)))#outData:16位，-32767~32767，注意不要溢出\n",
    "    outwave.close()"
   ]
  },
  {
   "cell_type": "code",
   "execution_count": 4,
   "metadata": {},
   "outputs": [
    {
     "name": "stdout",
     "output_type": "stream",
     "text": [
      "0\n",
      "1\n",
      "2\n",
      "3\n",
      "4\n",
      "5\n",
      "6\n",
      "7\n",
      "8\n",
      "9\n",
      "10\n",
      "11\n",
      "12\n",
      "13\n",
      "14\n",
      "15\n",
      "16\n",
      "17\n",
      "18\n",
      "19\n",
      "20\n",
      "21\n",
      "22\n",
      "23\n",
      "24\n",
      "25\n",
      "26\n",
      "27\n",
      "28\n",
      "29\n"
     ]
    }
   ],
   "source": [
    "filename = 'wang_final_musicInfo.csv'\n",
    "frame = pd.DataFrame({'matrix':[],'tag':[]})\n",
    "data = pd.read_csv(filename)\n",
    "music_ids = data['歌曲id'].tolist()\n",
    "for i in range(0,30):\n",
    "    print(i)\n",
    "    tmpstr = '王之歌曲存储/'+str(music_ids[i])+'.mp3'\n",
    "    matrix = load_mp3(tmpstr)\n",
    "#    matrix1 = np.random.random(size=[1,5000000,2])\n",
    "    temp_frame = pd.DataFrame({'matrix':[matrix],'tag':[0]})\n",
    "    frame = pd.concat([frame,temp_frame])\n",
    "for i in range(5):\n",
    "    matrix1 = np.random.random(size=[1,5000000,2])\n",
    "    temp_frame = pd.DataFrame({'matrix':[matrix1],'tag':[1]})\n",
    "    frame = pd.concat([frame,temp_frame])"
   ]
  },
  {
   "cell_type": "code",
   "execution_count": 5,
   "metadata": {},
   "outputs": [],
   "source": [
    "np.save('frame.npy',frame)\n",
    "# frame2 = np.loads('frame.npy')"
   ]
  },
  {
   "cell_type": "code",
   "execution_count": null,
   "metadata": {},
   "outputs": [],
   "source": []
  }
 ],
 "metadata": {
  "kernelspec": {
   "display_name": "myconda",
   "language": "python",
   "name": "myconda"
  },
  "language_info": {
   "codemirror_mode": {
    "name": "ipython",
    "version": 3
   },
   "file_extension": ".py",
   "mimetype": "text/x-python",
   "name": "python",
   "nbconvert_exporter": "python",
   "pygments_lexer": "ipython3",
   "version": "3.8.5"
  }
 },
 "nbformat": 4,
 "nbformat_minor": 4
}
