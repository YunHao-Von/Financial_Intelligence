{
 "cells": [
  {
   "cell_type": "code",
   "execution_count": 1,
   "metadata": {
    "collapsed": true,
    "pycharm": {
     "name": "#%%\n"
    }
   },
   "outputs": [],
   "source": [
    "import requests\n",
    "import json\n",
    "import re\n",
    "def get_lyric(id):\n",
    "    '''\n",
    "    :param\n",
    "     id:输入指定歌曲的音乐id\n",
    "    :return:\n",
    "    返回当前歌曲的歌词\n",
    "    '''\n",
    "    headers = {\n",
    "        \"user-agent\" : \"Mozilla/5.0\",\n",
    "        \"Referer\" : \"http://music.163.com\",\n",
    "        \"Host\" : \"music.163.com\"\n",
    "    }\n",
    "    url='http://localhost:3000/lyric?id='+str(id)\n",
    "    temp=requests.get(url,headers=headers,timeout=5)\n",
    "    temp=json.loads(temp.text)\n",
    "    a=temp['lrc']['lyric']\n",
    "    lyric = re.sub(r'[\\d:.[\\]]','', a)\n",
    "    lyric=lyric.replace('\\n', '').replace('\\r', '').strip().replace(' ', '')\n",
    "    lyric=re.sub('[^\\u4e00-\\u9fa5]+','',lyric)\n",
    "    return lyric"
   ]
  },
  {
   "cell_type": "code",
   "execution_count": null,
   "outputs": [],
   "source": [
    "import pandas as pd\n",
    "def get_lyric_with_csv(filename):\n",
    "    '''\n",
    "    :param\n",
    "    filename:文件名\n",
    "    :return:\n",
    "    自动生成带歌词的文件\n",
    "    '''\n",
    "    temp_data=pd.read_csv(filename)\n",
    "    temp_music_ids=temp_data['歌曲id'].tolist()\n",
    "    lyric=[]\n",
    "    for i in range(len(temp_music_ids)):\n",
    "        try:\n",
    "            temp_lyric=get_lyric(str(temp_music_ids[i]))\n",
    "            lyric.append(temp_lyric)\n",
    "        except:\n",
    "            temp_data.drop([i],inplace = True)\n",
    "    temp_data['歌曲歌词']=lyric\n",
    "    return temp_data\n",
    "a=get_lyric_with_csv('代.csv')"
   ],
   "metadata": {
    "collapsed": false,
    "pycharm": {
     "name": "#%%\n",
     "is_executing": true
    }
   }
  },
  {
   "cell_type": "code",
   "execution_count": null,
   "outputs": [],
   "source": [],
   "metadata": {
    "collapsed": false,
    "pycharm": {
     "name": "#%%\n",
     "is_executing": true
    }
   }
  }
 ],
 "metadata": {
  "kernelspec": {
   "name": "pycharm-1dac48b0",
   "language": "python",
   "display_name": "PyCharm (shiyan)"
  },
  "language_info": {
   "codemirror_mode": {
    "name": "ipython",
    "version": 2
   },
   "file_extension": ".py",
   "mimetype": "text/x-python",
   "name": "python",
   "nbconvert_exporter": "python",
   "pygments_lexer": "ipython2",
   "version": "2.7.6"
  }
 },
 "nbformat": 4,
 "nbformat_minor": 0
}